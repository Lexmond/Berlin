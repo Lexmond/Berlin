{
 "cells": [
  {
   "attachments": {},
   "cell_type": "markdown",
   "metadata": {},
   "source": [
    "# Nextclade preperation\n",
    "\n",
    "## Installation:\n",
    "Nextclade is installed in a os-64 subdirectory witin an arm-64 conda installation."
   ]
  },
  {
   "cell_type": "code",
   "execution_count": null,
   "metadata": {
    "vscode": {
     "languageId": "shellscript"
    }
   },
   "outputs": [],
   "source": [
    "CONDA_SUBDIR=osx-64 conda create -n nextclade python=3.10\n",
    "conda activate nextclade\n",
    "conda config --env --set subdir osx-64\n",
    "conda install -c bioconda nextclade"
   ]
  },
  {
   "attachments": {},
   "cell_type": "markdown",
   "metadata": {},
   "source": [
    "## Help files:\n",
    "\n",
    "For short help type: `nextclade -h`, for extended help type: `nextclade --help`. \n",
    "\n",
    "Each subcommand has its own help, for example: `nextclade run --help`."
   ]
  },
  {
   "cell_type": "code",
   "execution_count": null,
   "metadata": {
    "vscode": {
     "languageId": "shellscript"
    }
   },
   "outputs": [],
   "source": [
    "nextalign --help\n",
    "nextalign run --help  # Each subcommand has its own help."
   ]
  },
  {
   "attachments": {},
   "cell_type": "markdown",
   "metadata": {},
   "source": [
    "## Datasets:\n",
    "\n",
    "Available datasets can de downloaded via the command line. \n",
    "\n",
    "For a list of available datasets us the command:"
   ]
  },
  {
   "cell_type": "code",
   "execution_count": null,
   "metadata": {
    "vscode": {
     "languageId": "shellscript"
    }
   },
   "outputs": [],
   "source": [
    "nextclade dataset list"
   ]
  },
  {
   "attachments": {},
   "cell_type": "markdown",
   "metadata": {},
   "source": [
    "### The datasets are downloaded by:\n",
    "\n",
    "> The name of the dataset using the  ```-n``` or ```--name``` tag.\n",
    ">\n",
    "> The reference sequence using the  ```-r``` or  ```--reference``` tag (for some subtypes and seqments their are different references available).\n",
    ">\n",
    "> The path to directory to write dataset files to using ```-o``` or ```--output-dir```."
   ]
  },
  {
   "cell_type": "code",
   "execution_count": null,
   "metadata": {
    "vscode": {
     "languageId": "shellscript"
    }
   },
   "outputs": [],
   "source": [
    "# DOWNLOADING DATASETS:\n",
    "\n",
    "### --------- H1N1pdm --------- ###\n",
    "\n",
    "# flu_h1n1pdm_ha 'A/Wisconsin/588/2019' MW626062\n",
    "nextclade dataset get -n \"flu_h1n1pdm_ha\" -r \"MW626062\" -o \"_Nextclade/data/flu_h1n1pdm_ha/\"\n",
    "\n",
    "# flu_h1n1pdm_na 'A/Wisconsin/588/2019' MW626056\n",
    "nextclade dataset get -n \"flu_h1n1pdm_na\" -r \"MW626056\" -o \"_Nextclade/data/flu_h1n1pdm_na/\"\n",
    "\n",
    "\n",
    "\n",
    "### ----------- H3N2 ---------- ###\n",
    "\n",
    "# flu_h3n2_ha 'A/Darwin/6/2021' EPI1857216\n",
    "nextclade dataset get -n \"flu_h3n2_ha\" -r \"EPI1857216\" -o \"_Nextclade/data/flu_h3n2_ha/\"\n",
    "\n",
    "# flu_h3n2_na 'A/Darwin/6/2021' EPI1857215\n",
    "nextclade dataset get -n \"flu_h3n2_na\" -r \"EPI1857215\" -o \"_Nextclade/data/flu_h3n2_na/\"\n",
    "\n",
    "\n",
    "\n",
    "### ----------- B-VIC ---------- ###\n",
    "\n",
    "# flu_vic_ha 'B/Brisbane/60/2008' KX058884\n",
    "nextclade dataset get -n \"flu_vic_ha\" -r \"KX058884\" -o \"_Nextclade/data/flu_vic_ha/\"\n",
    "\n",
    "# flu_vic_na 'B/Brisbane/60/2008' CY073894\n",
    "nextclade dataset get -n \"flu_vic_na\" -r \"CY073894\" -o \"_Nextclade/data/flu_vic_na/\"\n",
    "\n",
    "\n",
    "\n",
    "### ----------- B-YAM ---------- ###\n",
    "\n",
    "# flu_yam_ha 'B/Wisconsin/01/2010' JN993010\n",
    "nextclade dataset get -n \"flu_yam_ha\" -r \"JN993010\" -o \"_Nextclade/data/flu_yam_ha/\""
   ]
  },
  {
   "attachments": {},
   "cell_type": "markdown",
   "metadata": {},
   "source": [
    "# Running Nextclade\n",
    "\n",
    "## Inputs:\n",
    "\n",
    "- Path to a directory or a zip file containing a dataset.\n",
    "    - ```-D, --input-dataset <INPUT_DATASET>```\n",
    "- Path to one or multiple FASTA files with input sequences.\n",
    "    - ```<INPUT_FASTAS>...```\n",
    "\n",
    "## Outputs:\n",
    "- Produce all of the output files into this directory, using default basename and predefined suffixes and extensions. This is equivalent to specifying each of the individual `--output-*` flags. Convenient when you want to receive all or most of output files into the same directory and don't care about their filenames.\n",
    "    - ```-O, --output-all <OUTPUT_ALL>```"
   ]
  },
  {
   "cell_type": "code",
   "execution_count": null,
   "metadata": {
    "vscode": {
     "languageId": "shellscript"
    }
   },
   "outputs": [],
   "source": [
    "# Example run from the input folder \"Nextclade/2023/input/\"\n",
    "\n",
    "\n",
    "## Using \"H1N1pdm_HA_Aug-Nov2022.fasta\" as input:\n",
    "nextclade run \\\n",
    "    --input-dataset Nextclade/2023/data/flu_h1n1pdm_ha/ \\\n",
    "    --output-all Nextclade/2023/output/H1N1pdm_HA_Aug-Nov2022 \\\n",
    "    Nextclade/2023/input/H1N1pdm_HA_Aug-Nov2022.fasta"
   ]
  }
 ],
 "metadata": {
  "kernelspec": {
   "display_name": "nextclade",
   "language": "python",
   "name": "python3"
  },
  "language_info": {
   "codemirror_mode": {
    "name": "ipython",
    "version": 3
   },
   "file_extension": ".py",
   "mimetype": "text/x-python",
   "name": "python",
   "nbconvert_exporter": "python",
   "pygments_lexer": "ipython3",
   "version": "3.10.11"
  },
  "orig_nbformat": 4
 },
 "nbformat": 4,
 "nbformat_minor": 2
}
